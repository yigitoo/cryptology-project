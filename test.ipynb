{
 "cells": [
  {
   "cell_type": "code",
   "execution_count": 2,
   "metadata": {},
   "outputs": [],
   "source": [
    "from funcs import *"
   ]
  },
  {
   "cell_type": "code",
   "execution_count": 3,
   "metadata": {},
   "outputs": [
    {
     "ename": "ValueError",
     "evalue": "could not convert string to float: 'ὢ⤓刪ᮁ剀ᮐ㪀55.0'",
     "output_type": "error",
     "traceback": [
      "\u001b[0;31m---------------------------------------------------------------------------\u001b[0m",
      "\u001b[0;31mValueError\u001b[0m                                Traceback (most recent call last)",
      "Cell \u001b[0;32mIn [3], line 5\u001b[0m\n\u001b[1;32m      1\u001b[0m key \u001b[39m=\u001b[39m \u001b[39mopen\u001b[39m(\u001b[39m'\u001b[39m\u001b[39mkey\u001b[39m\u001b[39m'\u001b[39m, \u001b[39m'\u001b[39m\u001b[39mr\u001b[39m\u001b[39m'\u001b[39m)\u001b[39m.\u001b[39mread()\n\u001b[1;32m      3\u001b[0m \u001b[39mprint\u001b[39m(\n\u001b[1;32m      4\u001b[0m     \u001b[39mlen\u001b[39m(key),\n\u001b[0;32m----> 5\u001b[0m     encryptkey(key),\n\u001b[1;32m      6\u001b[0m     \u001b[39mlen\u001b[39m(decryptkey(encryptkey(key))),\n\u001b[1;32m      7\u001b[0m     sep\u001b[39m=\u001b[39m\u001b[39m'\u001b[39m\u001b[39m\\n\u001b[39;00m\u001b[39m'\u001b[39m\n\u001b[1;32m      8\u001b[0m )\n",
      "File \u001b[0;32m~/Kriptoloji/funcs.py:327\u001b[0m, in \u001b[0;36mencryptkey\u001b[0;34m(key)\u001b[0m\n\u001b[1;32m    325\u001b[0m     vfis \u001b[39m=\u001b[39m vfis[:\u001b[39mint\u001b[39m(np\u001b[39m.\u001b[39mceil(\u001b[39mlen\u001b[39m(vfis)\u001b[39m/\u001b[39m\u001b[39m2\u001b[39m))\u001b[39m-\u001b[39m\u001b[39m1\u001b[39m]\n\u001b[1;32m    326\u001b[0m     a \u001b[39m=\u001b[39m \u001b[39mstr\u001b[39m(vfis) \u001b[39m+\u001b[39m \u001b[39mstr\u001b[39m(np\u001b[39m.\u001b[39mfloor(np\u001b[39m.\u001b[39mrandom\u001b[39m.\u001b[39muniform(\u001b[39m10\u001b[39m, \u001b[39m99\u001b[39m, (\u001b[39m1\u001b[39m, \u001b[39m1\u001b[39m))[\u001b[39m0\u001b[39m][\u001b[39m0\u001b[39m]))\n\u001b[0;32m--> 327\u001b[0m     ar2\u001b[39m.\u001b[39mappend(\u001b[39mchr\u001b[39m(\u001b[39mint\u001b[39m(\u001b[39mfloat\u001b[39;49m(a))))\n\u001b[1;32m    328\u001b[0m r \u001b[39m=\u001b[39m \u001b[39m\"\u001b[39m\u001b[39m\"\u001b[39m\n\u001b[1;32m    329\u001b[0m \u001b[39mfor\u001b[39;00m i \u001b[39min\u001b[39;00m ar2:\n",
      "\u001b[0;31mValueError\u001b[0m: could not convert string to float: 'ὢ⤓刪ᮁ剀ᮐ㪀55.0'"
     ]
    }
   ],
   "source": [
    "key = open('key', 'r').read()\n",
    "\n",
    "print(\n",
    "    len(key),\n",
    "    encryptkey(key),\n",
    "    len(decryptkey(encryptkey(key))),\n",
    "    sep='\\n'\n",
    ")"
   ]
  },
  {
   "cell_type": "code",
   "execution_count": null,
   "metadata": {},
   "outputs": [],
   "source": [
    "def encryptkeyfile():\n",
    "    k2 = open('dk', 'w+')\n",
    "    k1 = open('key', 'r')\n",
    "    key = k1.read()\n",
    "    print(key)\n",
    "\n",
    "    key = encryptkey(key)\n",
    "    print(key)\n",
    "\n",
    "    k2.write(key)\n",
    "encryptkeyfile()"
   ]
  },
  {
   "cell_type": "code",
   "execution_count": null,
   "metadata": {},
   "outputs": [],
   "source": [
    "def encryptkey(key):\n",
    "    ar2 = []\n",
    "    for vfi in solvekey(key)[0].split('\\u200d'):\n",
    "        print(vfi)\n",
    "        vfis = vfi[1:]\n",
    "        vfis = vfis[:int(np.ceil(len(vfis)/2))-1]\n",
    "        a = str(vfis) + str(np.floor(np.random.uniform(10, 99, (1, 1))[0][0]))\n",
    "        ar2.append(chr(int(float(a))))\n",
    "    r = \"\"\n",
    "    for i in ar2:\n",
    "        r += i\n",
    "    return r\n",
    "\n",
    "\n",
    "def decryptkey(key):\n",
    "    ar2 = []\n",
    "    for i in key:\n",
    "        val = str(ord(i))\n",
    "        val = val[:-2]\n",
    "        c = str(key.index(i) % 10)\n",
    "        c += val+\"0\"+val\n",
    "        ar2.append(c)\n",
    "    r = \"\"\n",
    "    for i in ar2[:-1]:\n",
    "        r += i+'\\u200d'\n",
    "    return r\n"
   ]
  },
  {
   "cell_type": "code",
   "execution_count": null,
   "metadata": {},
   "outputs": [
    {
     "data": {
      "text/plain": [
       "4"
      ]
     },
     "execution_count": 3,
     "metadata": {},
     "output_type": "execute_result"
    }
   ],
   "source": [
    "te = open('toEncrypt.txt','r').read()\n",
    "def saveul(s):\n",
    "    r = \"\"\n",
    "    for i in s:\n",
    "        if i.isupper() == True:\n",
    "            r += \"1\"\n",
    "        else:\n",
    "            r += \"0\"\n",
    "    return r\n",
    "saveul(te)\n",
    "\n",
    "def custombin(s):\n",
    "    t = 0\n",
    "    for i in range(len(s)):\n",
    "        t += 2**int(i)\n",
    "    return t-len(s)\n",
    "\n",
    "custombin('100')\n"
   ]
  },
  {
   "cell_type": "code",
   "execution_count": null,
   "metadata": {},
   "outputs": [],
   "source": [
    "def changeul(s, val):\n",
    "    r = \"\"\n",
    "    for i in range(len(s)):\n",
    "        if val[i] == \"1\":\n",
    "            r += s[i].upper()\n",
    "        if val[i] == \"0\":\n",
    "            r += s[i].lower()\n",
    "    return r"
   ]
  },
  {
   "cell_type": "code",
   "execution_count": null,
   "metadata": {},
   "outputs": [
    {
     "data": {
      "text/plain": [
       "'SeA'"
      ]
     },
     "execution_count": 68,
     "metadata": {},
     "output_type": "execute_result"
    }
   ],
   "source": [
    "changeul(\"Sea\",\"101\")"
   ]
  },
  {
   "cell_type": "code",
   "execution_count": null,
   "metadata": {},
   "outputs": [
    {
     "data": {
      "text/plain": [
       "([], 'ᮡᵶ⇩剀ᮄ刭ᾙ\\u2fff᭢ᵙ⇏刟ᮏ刘ᾜ⿓>')"
      ]
     },
     "execution_count": 60,
     "metadata": {},
     "output_type": "execute_result"
    }
   ],
   "source": [
    "dk = open('key', 'r').read()\n",
    "solvekey(dk)"
   ]
  },
  {
   "cell_type": "code",
   "execution_count": 4,
   "metadata": {},
   "outputs": [
    {
     "data": {
      "text/plain": [
       "0.16666666666666666"
      ]
     },
     "execution_count": 4,
     "metadata": {},
     "output_type": "execute_result"
    }
   ],
   "source": [
    "import wave\n",
    "import contextlib\n",
    "def get_duration(fname):\n",
    "    with contextlib.closing(wave.open(fname, 'r')) as f:\n",
    "        frames = f.getnframes()\n",
    "        rate = f.getframerate()\n",
    "        duration = frames / float(rate)\n",
    "    return duration\n",
    "get_duration('wavs/0.wav')\n"
   ]
  },
  {
   "cell_type": "code",
   "execution_count": 5,
   "metadata": {},
   "outputs": [
    {
     "name": "stdout",
     "output_type": "stream",
     "text": [
      "0.16666666666666666\n",
      "0.16666666666666666\n",
      "0.14285714285714285\n",
      "0.14285714285714285\n",
      "0.25\n",
      "0.25\n",
      "1.0\n",
      "1.0\n",
      "0.1111111111111111\n",
      "0.1111111111111111\n",
      "1.0\n",
      "1.0\n",
      "0.1111111111111111\n",
      "0.1111111111111111\n",
      "0.5\n",
      "0.5\n"
     ]
    }
   ],
   "source": [
    "from natsort import natsorted\n",
    "import librosa\n",
    "for i in natsorted(os.listdir('wavs')):\n",
    "    len = get_duration(fname=\"\".join(['wavs', \"/\", i]))\n",
    "    print(len)\n",
    "    len = librosa.get_duration(filename=\"\".join(['wavs', \"/\", i]))\n",
    "    print(len)\n"
   ]
  },
  {
   "cell_type": "code",
   "execution_count": 5,
   "metadata": {},
   "outputs": [
    {
     "name": "stdout",
     "output_type": "stream",
     "text": [
      "Square: 1809979484068848400\n",
      "Cube: 7216160978076683351981551084198283733651082791058936355065674651625000\n",
      "Done!\n"
     ]
    }
   ],
   "source": [
    "import threading\n",
    "\n",
    "\n",
    "def print_cube(num):\n",
    "    print(\"Cube: {}\" .format(num * num * num))\n",
    "\n",
    "def print_square(num):\n",
    "    print(\"Square: {}\" .format(num * num))\n",
    "\n",
    "\n",
    "if __name__ == \"__main__\":\n",
    "    t1 = threading.Thread(target=print_square, args=(1345354780,))\n",
    "    t2 = threading.Thread(target=print_cube, args=(193242243523557345345850,))\n",
    "\n",
    "    t1.start()\n",
    "    t2.start()\n",
    "\n",
    "    t1.join()\n",
    "    t2.join()\n",
    "\n",
    "    print(\"Done!\")\n"
   ]
  }
 ],
 "metadata": {
  "kernelspec": {
   "display_name": "Python 3.10.7 64-bit",
   "language": "python",
   "name": "python3"
  },
  "language_info": {
   "codemirror_mode": {
    "name": "ipython",
    "version": 3
   },
   "file_extension": ".py",
   "mimetype": "text/x-python",
   "name": "python",
   "nbconvert_exporter": "python",
   "pygments_lexer": "ipython3",
   "version": "3.10.8"
  },
  "orig_nbformat": 4,
  "vscode": {
   "interpreter": {
    "hash": "e7370f93d1d0cde622a1f8e1c04877d8463912d04d973331ad4851f04de6915a"
   }
  }
 },
 "nbformat": 4,
 "nbformat_minor": 2
}
