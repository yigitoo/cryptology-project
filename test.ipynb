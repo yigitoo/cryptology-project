{
 "cells": [
  {
   "cell_type": "code",
   "execution_count": 1,
   "metadata": {},
   "outputs": [],
   "source": [
    "from funcs import *"
   ]
  },
  {
   "cell_type": "code",
   "execution_count": 21,
   "metadata": {},
   "outputs": [
    {
     "name": "stdout",
     "output_type": "stream",
     "text": [
      "('1', [2, 2], [1, 4])\n",
      "10\n",
      "100\n"
     ]
    },
    {
     "data": {
      "text/plain": [
       "'100'"
      ]
     },
     "execution_count": 21,
     "metadata": {},
     "output_type": "execute_result"
    }
   ],
   "source": [
    "saveul('afAEFea')\n",
    "compbin('100111100')"
   ]
  },
  {
   "cell_type": "code",
   "execution_count": 21,
   "metadata": {},
   "outputs": [
    {
     "data": {
      "text/plain": [
       "'02{}3{}'"
      ]
     },
     "execution_count": 21,
     "metadata": {},
     "output_type": "execute_result"
    }
   ],
   "source": [
    "def compbin(bin):\n",
    "    first = bin[0]\n",
    "    zeros = bin.split('1')\n",
    "    ones = bin.split('0')\n",
    "    zl = []\n",
    "    ol = []\n",
    "    for i in zeros:\n",
    "        if i != '':\n",
    "            zl.append(len(i))\n",
    "    for i in ones:\n",
    "        if i != '':\n",
    "            ol.append(len(i))\n",
    "    r = first, zl, ol\n",
    "    o = \"\"\n",
    "    o+=r[0]\n",
    "\n",
    "    for i in range(len(r[2])):\n",
    "        o+=str(r[(i+1)%2+1][i])+\"{}\"  \n",
    "    return o\n",
    "compbin('001100010')"
   ]
  },
  {
   "cell_type": "code",
   "execution_count": null,
   "metadata": {},
   "outputs": [],
   "source": [
    "key = open('key', 'r').read()\n",
    "\n",
    "print(\n",
    "    len(key),\n",
    "    encryptkey(key),\n",
    "    len(decryptkey(encryptkey(key))),\n",
    "    sep='\\n'\n",
    ")"
   ]
  },
  {
   "cell_type": "code",
   "execution_count": null,
   "metadata": {},
   "outputs": [],
   "source": [
    "def encryptkeyfile():\n",
    "    k2 = open('dk', 'w+')\n",
    "    k1 = open('key', 'r')\n",
    "    key = k1.read()\n",
    "    print(key)\n",
    "\n",
    "    key = encryptkey(key)\n",
    "    print(key)\n",
    "\n",
    "    k2.write(key)\n",
    "encryptkeyfile()"
   ]
  },
  {
   "cell_type": "code",
   "execution_count": null,
   "metadata": {},
   "outputs": [],
   "source": [
    "def encryptkey(key):\n",
    "    ar2 = []\n",
    "    for vfi in solvekey(key)[0].split('\\u200d'):\n",
    "        print(vfi)\n",
    "        vfis = vfi[1:]\n",
    "        vfis = vfis[:int(np.ceil(len(vfis)/2))-1]\n",
    "        a = str(vfis) + str(np.floor(np.random.uniform(10, 99, (1, 1))[0][0]))\n",
    "        ar2.append(chr(int(float(a))))\n",
    "    r = \"\"\n",
    "    for i in ar2:\n",
    "        r += i\n",
    "    return r\n",
    "\n",
    "\n",
    "def decryptkey(key):\n",
    "    ar2 = []\n",
    "    for i in key:\n",
    "        val = str(ord(i))\n",
    "        val = val[:-2]\n",
    "        c = str(key.index(i) % 10)\n",
    "        c += val+\"0\"+val\n",
    "        ar2.append(c)\n",
    "    r = \"\"\n",
    "    for i in ar2[:-1]:\n",
    "        r += i+'\\u200d'\n",
    "    return r\n"
   ]
  },
  {
   "cell_type": "code",
   "execution_count": null,
   "metadata": {},
   "outputs": [],
   "source": [
    "te = open('toEncrypt.txt','r').read()\n",
    "def saveul(s):\n",
    "    r = \"\"\n",
    "    for i in s:\n",
    "        if i.isupper() == True:\n",
    "            r += \"1\"\n",
    "        else:\n",
    "            r += \"0\"\n",
    "    return r\n",
    "saveul(te)\n",
    "\n",
    "def custombin(s):\n",
    "    t = 0\n",
    "    for i in range(len(s)):\n",
    "        t += 2**int(i)\n",
    "    return t-len(s)\n",
    "\n",
    "custombin('100')\n"
   ]
  },
  {
   "cell_type": "code",
   "execution_count": null,
   "metadata": {},
   "outputs": [],
   "source": [
    "def changeul(s, val):\n",
    "    r = \"\"\n",
    "    for i in range(len(s)):\n",
    "        if val[i] == \"1\":\n",
    "            r += s[i].upper()\n",
    "        if val[i] == \"0\":\n",
    "            r += s[i].lower()\n",
    "    return r"
   ]
  },
  {
   "cell_type": "code",
   "execution_count": null,
   "metadata": {},
   "outputs": [],
   "source": [
    "changeul(\"Sea\",\"101\")"
   ]
  },
  {
   "cell_type": "code",
   "execution_count": null,
   "metadata": {},
   "outputs": [],
   "source": [
    "dk = open('key', 'r').read()\n",
    "solvekey(dk)"
   ]
  },
  {
   "cell_type": "code",
   "execution_count": null,
   "metadata": {},
   "outputs": [],
   "source": [
    "import wave\n",
    "import contextlib\n",
    "def get_duration(fname):\n",
    "    with contextlib.closing(wave.open(fname, 'r')) as f:\n",
    "        frames = f.getnframes()\n",
    "        rate = f.getframerate()\n",
    "        duration = frames / float(rate)\n",
    "    return duration\n",
    "get_duration('wavs/0.wav')\n"
   ]
  },
  {
   "cell_type": "code",
   "execution_count": null,
   "metadata": {},
   "outputs": [],
   "source": [
    "from natsort import natsorted\n",
    "import librosa\n",
    "for i in natsorted(os.listdir('wavs')):\n",
    "    len = get_duration(fname=\"\".join(['wavs', \"/\", i]))\n",
    "    print(len)\n",
    "    len = librosa.get_duration(filename=\"\".join(['wavs', \"/\", i]))\n",
    "    print(len)\n"
   ]
  },
  {
   "cell_type": "code",
   "execution_count": null,
   "metadata": {},
   "outputs": [],
   "source": []
  }
 ],
 "metadata": {
  "kernelspec": {
   "display_name": "Python 3.10.7 64-bit",
   "language": "python",
   "name": "python3"
  },
  "language_info": {
   "codemirror_mode": {
    "name": "ipython",
    "version": 3
   },
   "file_extension": ".py",
   "mimetype": "text/x-python",
   "name": "python",
   "nbconvert_exporter": "python",
   "pygments_lexer": "ipython3",
   "version": "3.10.8"
  },
  "orig_nbformat": 4,
  "vscode": {
   "interpreter": {
    "hash": "e7370f93d1d0cde622a1f8e1c04877d8463912d04d973331ad4851f04de6915a"
   }
  }
 },
 "nbformat": 4,
 "nbformat_minor": 2
}
