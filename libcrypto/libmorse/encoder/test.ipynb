{
 "cells": [
  {
   "cell_type": "code",
   "execution_count": null,
   "metadata": {},
   "outputs": [],
   "source": [
    "import numpy as np\n",
    "n = np.array([0,0,0])"
   ]
  },
  {
   "cell_type": "code",
   "execution_count": null,
   "metadata": {},
   "outputs": [],
   "source": [
    "def wve2rgb(ln):\n",
    "    n1=ln // 256 // 256 % 256\n",
    "    n2=ln //256%256\n",
    "    n3=ln % 256\n",
    "    return np.array([n1,n2,n3])\n",
    "\n",
    "def rgb2wve(ar):\n",
    "    i = ar[0]*256**2\n",
    "    i += 256*ar[1]\n",
    "    i += ar[2]\n",
    "    return i\n",
    "\n",
    "\n",
    "\n",
    "val = wve2rgb(1996038)\n",
    "print(val)\n",
    "print(rgb2wve(val))\n"
   ]
  },
  {
   "cell_type": "code",
   "execution_count": null,
   "metadata": {},
   "outputs": [],
   "source": [
    "ar = np.loadtxt('msf.csv')\n",
    "nar = ar\n",
    "tar = []"
   ]
  },
  {
   "cell_type": "code",
   "execution_count": null,
   "metadata": {},
   "outputs": [],
   "source": [
    "import text2morse as t2m\n",
    "import numpy as np\n",
    "from PIL import Image\n",
    "\n",
    "\n",
    "def tune(ar):\n",
    "    pass\n",
    "def wve2rgb(ln):\n",
    "    ln = str(ln)\n",
    "    ln = str(ln).split('.')[1]\n",
    "    ln = int(ln)\n",
    "    ar = [0,0,0]\n",
    "    ar[0]=ln // 256 // 256 % 256\n",
    "    ar[1]=ln //256%256\n",
    "    ar[2]=ln % 256\n",
    "    return ar\n",
    "\n",
    "def arr2rgb(arr):\n",
    "    arr2 = []\n",
    "    for i in range(len(arr)):\n",
    "        arr2.append(wve2rgb(arr[i]))\n",
    "    return arr2\n",
    "\n",
    "def text2video(text:str = None):\n",
    "    output = t2m.input2morse(text)\n",
    "    return output\n",
    "\n",
    "def find_shape_difference(inp):\n",
    "    l = inp.__len__()\n",
    "    l2 = (np.ceil(np.sqrt(l)))**2\n",
    "    return l2-l, int(np.sqrt(l2))\n",
    "\n",
    "def arr2image(arr):\n",
    "    fsd = find_shape_difference(arr)\n",
    "    new_array = np.append(arr, ([31415]*int(fsd[0])))\n",
    "    new_array = new_array.reshape(fsd[1],fsd[1])\n",
    "    return new_array\n"
   ]
  },
  {
   "cell_type": "code",
   "execution_count": null,
   "metadata": {},
   "outputs": [],
   "source": [
    "ar = np.loadtxt('msc.csv')\n",
    "np.savetxt('msc.csv',ar,'%5.6f')"
   ]
  },
  {
   "cell_type": "code",
   "execution_count": null,
   "metadata": {},
   "outputs": [],
   "source": [
    "ar2 = (ar + 1)*10**6\n",
    "np.savetxt('mst.csv',ar2,'%5.1f')"
   ]
  },
  {
   "cell_type": "code",
   "execution_count": null,
   "metadata": {},
   "outputs": [],
   "source": [
    "ar3 = np.loadtxt('mst.csv')\n",
    "ar3[0]"
   ]
  },
  {
   "cell_type": "code",
   "execution_count": null,
   "metadata": {},
   "outputs": [],
   "source": [
    "def arr2rgb(arr):\n",
    "    arr2 = []\n",
    "    for i in range(len(arr)):\n",
    "        arr2.append(wve2rgb(arr[i]))\n",
    "        \n",
    "    return arr2\n",
    "\n",
    "\n",
    "ar"
   ]
  },
  {
   "cell_type": "code",
   "execution_count": null,
   "metadata": {},
   "outputs": [],
   "source": [
    "np.savetxt('msp.csv',(arr2rgb(ar2)),'%5.1f')"
   ]
  },
  {
   "cell_type": "code",
   "execution_count": null,
   "metadata": {},
   "outputs": [],
   "source": [
    "ar3 = arr2image(ar2)\n"
   ]
  },
  {
   "cell_type": "code",
   "execution_count": null,
   "metadata": {},
   "outputs": [],
   "source": [
    "pa = np.loadtxt('msp.csv')\n",
    "pa.shape"
   ]
  },
  {
   "cell_type": "code",
   "execution_count": null,
   "metadata": {},
   "outputs": [],
   "source": [
    "def pa2sp(ar):\n",
    "    n = ar.shape[0]\n",
    "    n2 = np.ceil(np.sqrt(n))**2\n",
    "\n",
    "    nd = n2 - n\n",
    "    new_pa = np.append(pa, (15.0, 66.0, 64.0)*int(nd))\n",
    "    return new_pa\n",
    "lp = pa2sp(pa)\n",
    "lp = lp.reshape(int(lp.shape[0]/3.0),3)\n",
    "np.savetxt('msl.csv',lp,'%5.1f')\n",
    "lp=np.loadtxt('msl.csv')"
   ]
  },
  {
   "cell_type": "code",
   "execution_count": null,
   "metadata": {},
   "outputs": [],
   "source": [
    "import matplotlib.pyplot as plt\n",
    "\n",
    "lp = np.array(lp, dtype=np.uint8)\n",
    "img = Image.fromarray(lp.reshape(138,138,3))\n",
    "img.convert('RGB')\n",
    "plt.imshow(img)"
   ]
  },
  {
   "cell_type": "code",
   "execution_count": null,
   "metadata": {},
   "outputs": [],
   "source": [
    "img = Image.open('/home/salih/cryp/cryptology-project/aae.png')\n",
    "id = np.asarray(img)\n"
   ]
  },
  {
   "cell_type": "code",
   "execution_count": 8,
   "metadata": {},
   "outputs": [],
   "source": [
    "import numpy as np\n",
    "from PIL import Image\n",
    "import cv2, os\n",
    "\n",
    "def wve2rgb(ln):\n",
    "    n1=ln // 256 // 256 % 256\n",
    "    n2=ln //256%256\n",
    "    n3=ln % 256\n",
    "    return np.array([n1,n2,n3])\n",
    "\n",
    "def pa2sp(ar):\n",
    "    n = ar.shape[0]\n",
    "    n2 = np.ceil(np.sqrt(n))**2\n",
    "\n",
    "    nd = n2 - n\n",
    "    new_pa = np.append(pa, (15.0, 66.0, 64.0)*int(nd))\n",
    "    return new_pa\n",
    "\n",
    "def arr2rgb(arr):\n",
    "    arr2 = []\n",
    "    for i in range(len(arr)):\n",
    "        arr2.append(wve2rgb(arr[i]*10**6))\n",
    "    return arr2\n",
    "\n",
    "def text2video(text:str = None):\n",
    "    output = input2morse(text)\n",
    "    return output\n",
    "\n",
    "def find_shape_difference(inp):\n",
    "    l = inp.__len__()\n",
    "    l2 = (np.ceil(np.sqrt(l)))**2\n",
    "    return l2-l, int(np.sqrt(l2))\n",
    "\n",
    "def arr2image(arr):\n",
    "    fsd = find_shape_difference(arr)\n",
    "    new_array = np.append(arr, ([165,16,0]*int(fsd[0])))\n",
    "    new_array = new_array.reshape(fsd[1],fsd[1],3)\n",
    "    return new_array\n",
    "\n",
    "def tune(ar):\n",
    "    np.savetxt('.temp.csv',ar,'%5.6f')\n",
    "    ar = np.loadtxt('.temp.csv')\n",
    "    ar2 = (ar+1)*10**6\n",
    "    np.savetxt('.temp.csv',ar2,'%5.0f')\n",
    "    ar2 = np.loadtxt('.temp.csv')\n",
    "    return ar2\n",
    "\n",
    "def savearrayasimg(ar):\n",
    "    ar = np.array(ar, dtype=np.uint8)\n",
    "\n",
    "    img = Image.fromarray(ar)\n",
    "    img = img.convert('RGB')\n",
    "    img.save('output.png')\n",
    "\n",
    "def ce(text:str = None):\n",
    "    ar = text2video(text)\n",
    "    ar = tune(ar)\n",
    "    ar = arr2rgb(ar)\n",
    "    ar = arr2image(ar)\n",
    "    savearrayasimg(ar)\n",
    "    p2v('output.png')\n",
    "\n",
    "def p2v(img):\n",
    "    img = Image.open(img)\n",
    "    img = np.asarray(img)\n",
    "    np.savetxt('imga.csv',img[2])\n",
    "    ar = np.array_split(img , int(img.shape[0]/1.0))\n",
    "    ar = np.array(ar, dtype=np.uint8)\n",
    "    for i in range(len(ar)):\n",
    "        for j in range(len(ar[i])):\n",
    "            frame = Image.fromarray(ar[j])\n",
    "            frame.save(f'/home/salih/cryp/cryptology-project/frames/{(i+1)*j}.png')\n",
    "\n",
    "def frames2video(folder, out):\n",
    "    images = []\n",
    "    for i in os.listdir(folder):\n",
    "        global shape\n",
    "        frame = cv2.imread(i)\n",
    "        if i.startswith('0'):\n",
    "            shape = np.asarray(i).shape\n",
    "    c =  cv2.VideoWriter_fourcc(*'mp4v')\n",
    "    outv = cv2.VideoWriter(out, c, 1, (shape[0], shape[1]))\n",
    "    for img in images:\n",
    "        outv.write(cv2.imread(os.path.join(folder, img)))\n",
    "        outv.release()\n",
    "        \n",
    "if __name__ == \"__main__\":\n",
    "    pass\n",
    "    # p2v('output.png')\n",
    "\n"
   ]
  },
  {
   "cell_type": "code",
   "execution_count": null,
   "metadata": {},
   "outputs": [],
   "source": []
  },
  {
   "cell_type": "code",
   "execution_count": null,
   "metadata": {},
   "outputs": [],
   "source": [
    "\n",
    "def img2video(img, out):\n",
    "    fs = (0,10)\n",
    "    ar = Image.open(img)\n",
    "    ar = np.asarray(ar)\n",
    "    ar = np.array(ar, dtype=np.uint8)\n",
    "    v = cv2.VideoWriter(out,cv2.VideoWriter_fourcc(*'DIVX'), 60, fs)\n",
    "    for i in ar[0]:\n",
    "        v.write(i)\n",
    "    v.release()\n",
    "img2video('/home/salih/cryp/cryptology-project/output.png','out.avi')\n",
    "\n"
   ]
  },
  {
   "cell_type": "code",
   "execution_count": null,
   "metadata": {},
   "outputs": [],
   "source": [
    "from PIL import Image\n",
    "from matplotlib import pyplot as plt\n",
    "img = Image.open('output.png')\n",
    "ar = np.asarray(img)\n",
    "for i in ar:\n",
    "    for j in i:\n",
    "        print(j.shape)"
   ]
  },
  {
   "cell_type": "code",
   "execution_count": null,
   "metadata": {},
   "outputs": [],
   "source": [
    "from PIL import Image\n",
    "import numpy as np\n",
    "\n",
    "\n",
    "def p2v(img):\n",
    "    img = Image.open(img)\n",
    "    img = img.convert('RGB')\n",
    "    img = np.asarray(img)\n",
    "    ar = np.array_split(img , int(img.shape[0]/1.0))\n",
    "    ar = np.array(ar, dtype=np.uint8)\n",
    "    \n",
    "    for i in range(len(ar)):\n",
    "        for j in range(len(ar[i])): \n",
    "            for k in range(len(ar[i][j])):\n",
    "                frame = Image.fromarray(ar[i][j][k])\n",
    "                frame.save(f'/home/salih/cryp/cryptology-project/frames/{i}{j}{k}.png')"
   ]
  },
  {
   "cell_type": "code",
   "execution_count": null,
   "metadata": {},
   "outputs": [],
   "source": [
    "\n",
    "p2v('/home/salih/cryp/cryptology-project/output.png')"
   ]
  },
  {
   "cell_type": "code",
   "execution_count": null,
   "metadata": {},
   "outputs": [],
   "source": [
    "ar = np.array([255,0,0], dtype=np.uint8)\n",
    "ar = ar.reshape(1,1,3)\n",
    "img = Image.fromarray(ar, \"RGB\")\n",
    "img.save('test.png')"
   ]
  },
  {
   "cell_type": "code",
   "execution_count": null,
   "metadata": {},
   "outputs": [],
   "source": [
    "def rgb2wve(n):\n",
    "    s = 0\n",
    "    s += n[0]*256**2\n",
    "    s += n[1]*256\n",
    "    s += n[2]\n",
    "    return s\n",
    "from funcs import wve2rgb"
   ]
  },
  {
   "cell_type": "code",
   "execution_count": null,
   "metadata": {},
   "outputs": [],
   "source": [
    "def rgb2wve(n):\n",
    "    s = 0\n",
    "    s += n[0]*256**2\n",
    "    s += n[1]*256\n",
    "    s += n[2]\n",
    "    return s\n"
   ]
  },
  {
   "cell_type": "code",
   "execution_count": null,
   "metadata": {},
   "outputs": [],
   "source": [
    "#rgb2wve([165,16,0])\n",
    "from PIL import Image\n",
    "import numpy as np\n",
    "def image2wav(image='output.png', out='output.wav'):\n",
    "    img = Image.open(image)\n",
    "    ar = np.asarray(img)\n",
    "    ar = np.resize(ar, (ar.shape[0], ar.shape[1]))\n",
    "    np.savetxt('ar1.csv',ar,'%5.6f')\n",
    "    ar2 = []\n",
    "    for i in ar:\n",
    "        print(i)\n",
    "        ar2.append(rgb2wve(i))\n",
    "    np.savetxt('ar2.csv',ar2,'%5.6f')\n",
    "    return ar2\n",
    "image2wav()"
   ]
  },
  {
   "cell_type": "code",
   "execution_count": null,
   "metadata": {},
   "outputs": [],
   "source": []
  },
  {
   "cell_type": "code",
   "execution_count": null,
   "metadata": {},
   "outputs": [],
   "source": [
    "import sounddevice as sd\n",
    "ar = np.loadtxt('.temp.csv')\n",
    "sd.play(ar-1*10**6)"
   ]
  },
  {
   "cell_type": "code",
   "execution_count": null,
   "metadata": {},
   "outputs": [],
   "source": [
    "from PIL import Image\n",
    "import numpy as np  \n",
    "img = Image.open('output.png')\n",
    "ar = np.asarray(img)\n",
    "ar.reshape(85,85,3)\n",
    "#np.savetxt('tar.csv',ar)"
   ]
  },
  {
   "cell_type": "code",
   "execution_count": null,
   "metadata": {},
   "outputs": [],
   "source": [
    "\n",
    "np.savetxt('tar.csv',ar,'%3f.0')"
   ]
  },
  {
   "cell_type": "code",
   "execution_count": null,
   "metadata": {},
   "outputs": [],
   "source": [
    "ar2 = []\n",
    "for i in ar.flatten():\n",
    "    ar2.append(i)\n",
    "ar2 = ar.reshape(ar.shape[0]*ar.shape[1]*3)\n",
    "\n",
    "ar2.reshape(ar.shape[0],ar.shape[1])"
   ]
  },
  {
   "cell_type": "code",
   "execution_count": 9,
   "metadata": {},
   "outputs": [],
   "source": [
    "def rgba2wvea(ar):\n",
    "    def rgb2wve(n):\n",
    "        s = 0\n",
    "        s += n[0]*256**2\n",
    "        s += n[1]*256\n",
    "        s += n[2]\n",
    "        return s\n",
    "\n",
    "    ar3 = []\n",
    "    ar4 = []\n",
    "    for i in range(len(ar)):\n",
    "        for j in range(len(ar[i])):\n",
    "            ar3.append(ar[i][j])\n",
    "    ar3 = np.array(ar3)\n",
    "    for i in range(len(ar3)):\n",
    "        val = rgb2wve(ar3[i])\n",
    "        ar4.append(val)\n",
    "    #sd.play(ar4)\n",
    "    ar4 = np.array(ar4, dtype=np.float64)\n",
    "    np.savetxt('ar4.csv',ar4,'%5.0f')"
   ]
  },
  {
   "cell_type": "code",
   "execution_count": 10,
   "metadata": {},
   "outputs": [
    {
     "ename": "ImportError",
     "evalue": "attempted relative import with no known parent package",
     "output_type": "error",
     "traceback": [
      "\u001b[0;31m---------------------------------------------------------------------------\u001b[0m",
      "\u001b[0;31mModuleNotFoundError\u001b[0m                       Traceback (most recent call last)",
      "\u001b[0;32m~/cryp/cryptology-project/libcrypto/libmorse/encoder/funcs.py\u001b[0m in \u001b[0;36m<module>\u001b[0;34m\u001b[0m\n\u001b[1;32m      6\u001b[0m \u001b[0;32mtry\u001b[0m\u001b[0;34m:\u001b[0m\u001b[0;34m\u001b[0m\u001b[0;34m\u001b[0m\u001b[0m\n\u001b[0;32m----> 7\u001b[0;31m     \u001b[0;32mfrom\u001b[0m \u001b[0mlibcrypto\u001b[0m\u001b[0;34m.\u001b[0m\u001b[0mlibmorse\u001b[0m\u001b[0;34m.\u001b[0m\u001b[0mencoder\u001b[0m\u001b[0;34m.\u001b[0m\u001b[0mtext2morse\u001b[0m \u001b[0;32mimport\u001b[0m \u001b[0minput2morse\u001b[0m\u001b[0;34m\u001b[0m\u001b[0;34m\u001b[0m\u001b[0m\n\u001b[0m\u001b[1;32m      8\u001b[0m     \u001b[0;32mfrom\u001b[0m \u001b[0mlibcrypto\u001b[0m\u001b[0;34m.\u001b[0m\u001b[0mlibmorse\u001b[0m\u001b[0;34m.\u001b[0m\u001b[0mdecoder\u001b[0m\u001b[0;34m.\u001b[0m\u001b[0mmorse\u001b[0m \u001b[0;32mimport\u001b[0m \u001b[0mMorseCode\u001b[0m\u001b[0;34m\u001b[0m\u001b[0;34m\u001b[0m\u001b[0m\n",
      "\u001b[0;31mModuleNotFoundError\u001b[0m: No module named 'libcrypto'",
      "\nDuring handling of the above exception, another exception occurred:\n",
      "\u001b[0;31mImportError\u001b[0m                               Traceback (most recent call last)",
      "\u001b[0;32m/tmp/ipykernel_266551/1895350548.py\u001b[0m in \u001b[0;36m<module>\u001b[0;34m\u001b[0m\n\u001b[1;32m      1\u001b[0m \u001b[0;32mfrom\u001b[0m \u001b[0mscipy\u001b[0m\u001b[0;34m.\u001b[0m\u001b[0mio\u001b[0m\u001b[0;34m.\u001b[0m\u001b[0mwavfile\u001b[0m \u001b[0;32mimport\u001b[0m \u001b[0mwrite\u001b[0m\u001b[0;34m\u001b[0m\u001b[0;34m\u001b[0m\u001b[0m\n\u001b[0;32m----> 2\u001b[0;31m \u001b[0;32mfrom\u001b[0m \u001b[0mfuncs\u001b[0m \u001b[0;32mimport\u001b[0m \u001b[0;34m*\u001b[0m\u001b[0;34m\u001b[0m\u001b[0;34m\u001b[0m\u001b[0m\n\u001b[0m\u001b[1;32m      3\u001b[0m \u001b[0;32mimport\u001b[0m \u001b[0msounddevice\u001b[0m \u001b[0;32mas\u001b[0m \u001b[0msd\u001b[0m\u001b[0;34m\u001b[0m\u001b[0;34m\u001b[0m\u001b[0m\n\u001b[1;32m      4\u001b[0m \u001b[0;34m\u001b[0m\u001b[0m\n\u001b[1;32m      5\u001b[0m \u001b[0;34m\u001b[0m\u001b[0m\n",
      "\u001b[0;32m~/cryp/cryptology-project/libcrypto/libmorse/encoder/funcs.py\u001b[0m in \u001b[0;36m<module>\u001b[0;34m\u001b[0m\n\u001b[1;32m      9\u001b[0m \u001b[0;34m\u001b[0m\u001b[0m\n\u001b[1;32m     10\u001b[0m \u001b[0;32mexcept\u001b[0m\u001b[0;34m:\u001b[0m\u001b[0;34m\u001b[0m\u001b[0;34m\u001b[0m\u001b[0m\n\u001b[0;32m---> 11\u001b[0;31m     \u001b[0;32mfrom\u001b[0m \u001b[0;34m.\u001b[0m\u001b[0mtext2morse\u001b[0m \u001b[0;32mimport\u001b[0m \u001b[0minput2morse\u001b[0m\u001b[0;34m\u001b[0m\u001b[0;34m\u001b[0m\u001b[0m\n\u001b[0m\u001b[1;32m     12\u001b[0m     \u001b[0;32mfrom\u001b[0m \u001b[0;34m.\u001b[0m\u001b[0;34m.\u001b[0m\u001b[0mdecoder\u001b[0m\u001b[0;34m.\u001b[0m\u001b[0mmorse\u001b[0m \u001b[0;32mimport\u001b[0m \u001b[0mMorseCode\u001b[0m\u001b[0;34m\u001b[0m\u001b[0;34m\u001b[0m\u001b[0m\n\u001b[1;32m     13\u001b[0m \u001b[0;32mdef\u001b[0m \u001b[0mtext2video\u001b[0m\u001b[0;34m(\u001b[0m\u001b[0mtext\u001b[0m\u001b[0;34m:\u001b[0m\u001b[0mstr\u001b[0m \u001b[0;34m=\u001b[0m \u001b[0;32mNone\u001b[0m\u001b[0;34m)\u001b[0m\u001b[0;34m:\u001b[0m\u001b[0;34m\u001b[0m\u001b[0;34m\u001b[0m\u001b[0m\n",
      "\u001b[0;31mImportError\u001b[0m: attempted relative import with no known parent package"
     ]
    }
   ],
   "source": [
    "from scipy.io.wavfile import write\n",
    "from funcs import *\n",
    "import sounddevice as sd\n",
    "\n",
    "\n",
    "temp = np.loadtxt('/home/salih/cryp/cryptology-project/ar.csv')\n",
    "temp = temp * 10**6\n",
    "#sd.play(temp)\n",
    "samplerate = 44100\n",
    "fs = 100\n",
    "t = np.linspace(0., 1., samplerate)\n",
    "amplitude = np.iinfo(np.uint16).max\n",
    "write(\"example.wav\", samplerate, np.array(temp, dtype=np.int16))"
   ]
  },
  {
   "cell_type": "code",
   "execution_count": 11,
   "metadata": {},
   "outputs": [],
   "source": [
    "img = Image.open('/home/salih/cryp/cryptology-project/libcrypto/libmorse/encoder/output.png')\n",
    "ar = np.asarray(img)\n",
    "rgba2wvea(ar)\n"
   ]
  },
  {
   "cell_type": "code",
   "execution_count": 4,
   "metadata": {},
   "outputs": [],
   "source": [
    "import scipy.io\n",
    "import wave\n",
    "\n",
    "ifile = wave.open(\"/home/salih/cryp/cryptology-project/libcrypto/libmorse/encoder/example.wav\")\n",
    "samples = ifile.getnframes()\n",
    "audio = ifile.readframes(samples)\n",
    "    \n",
    "# Convert buffer to float32 using NumPy                                                                                 \n",
    "audio_as_np_int16 = np.frombuffer(audio, dtype=np.int16)\n",
    "audio_as_np_float32 = audio_as_np_int16.astype(np.float32)\n",
    "\n",
    "# Normalise float32 array so that values are between -1.0 and +1.0                                                      \n",
    "max_int16 = 2**15\n",
    "audio_normalised = audio_as_np_float32 / max_int16\n",
    "np.savetxt('war.csv',audio_normalised)"
   ]
  },
  {
   "cell_type": "code",
   "execution_count": 5,
   "metadata": {},
   "outputs": [
    {
     "ename": "ImportError",
     "evalue": "attempted relative import with no known parent package",
     "output_type": "error",
     "traceback": [
      "\u001b[0;31m---------------------------------------------------------------------------\u001b[0m",
      "\u001b[0;31mModuleNotFoundError\u001b[0m                       Traceback (most recent call last)",
      "\u001b[0;32m~/cryp/cryptology-project/libcrypto/libmorse/encoder/funcs.py\u001b[0m in \u001b[0;36m<module>\u001b[0;34m\u001b[0m\n\u001b[1;32m      6\u001b[0m \u001b[0;32mtry\u001b[0m\u001b[0;34m:\u001b[0m\u001b[0;34m\u001b[0m\u001b[0;34m\u001b[0m\u001b[0m\n\u001b[0;32m----> 7\u001b[0;31m     \u001b[0;32mfrom\u001b[0m \u001b[0mlibcrypto\u001b[0m\u001b[0;34m.\u001b[0m\u001b[0mlibmorse\u001b[0m\u001b[0;34m.\u001b[0m\u001b[0mencoder\u001b[0m\u001b[0;34m.\u001b[0m\u001b[0mtext2morse\u001b[0m \u001b[0;32mimport\u001b[0m \u001b[0minput2morse\u001b[0m\u001b[0;34m\u001b[0m\u001b[0;34m\u001b[0m\u001b[0m\n\u001b[0m\u001b[1;32m      8\u001b[0m     \u001b[0;32mfrom\u001b[0m \u001b[0mlibcrypto\u001b[0m\u001b[0;34m.\u001b[0m\u001b[0mlibmorse\u001b[0m\u001b[0;34m.\u001b[0m\u001b[0mdecoder\u001b[0m\u001b[0;34m.\u001b[0m\u001b[0mmorse\u001b[0m \u001b[0;32mimport\u001b[0m \u001b[0mMorseCode\u001b[0m\u001b[0;34m\u001b[0m\u001b[0;34m\u001b[0m\u001b[0m\n",
      "\u001b[0;31mModuleNotFoundError\u001b[0m: No module named 'libcrypto'",
      "\nDuring handling of the above exception, another exception occurred:\n",
      "\u001b[0;31mImportError\u001b[0m                               Traceback (most recent call last)",
      "\u001b[0;32m/tmp/ipykernel_266551/1143729168.py\u001b[0m in \u001b[0;36m<module>\u001b[0;34m\u001b[0m\n\u001b[1;32m      1\u001b[0m \u001b[0;32mfrom\u001b[0m \u001b[0mPIL\u001b[0m \u001b[0;32mimport\u001b[0m \u001b[0mImage\u001b[0m\u001b[0;34m\u001b[0m\u001b[0;34m\u001b[0m\u001b[0m\n\u001b[1;32m      2\u001b[0m \u001b[0;32mimport\u001b[0m \u001b[0mnumpy\u001b[0m \u001b[0;32mas\u001b[0m \u001b[0mnp\u001b[0m\u001b[0;34m\u001b[0m\u001b[0;34m\u001b[0m\u001b[0m\n\u001b[0;32m----> 3\u001b[0;31m \u001b[0;32mfrom\u001b[0m \u001b[0mfuncs\u001b[0m \u001b[0;32mimport\u001b[0m \u001b[0;34m*\u001b[0m\u001b[0;34m\u001b[0m\u001b[0;34m\u001b[0m\u001b[0m\n\u001b[0m\u001b[1;32m      4\u001b[0m \u001b[0;34m\u001b[0m\u001b[0m\n\u001b[1;32m      5\u001b[0m \u001b[0mimg\u001b[0m \u001b[0;34m=\u001b[0m \u001b[0mImage\u001b[0m\u001b[0;34m.\u001b[0m\u001b[0mopen\u001b[0m\u001b[0;34m(\u001b[0m\u001b[0;34m'output.png'\u001b[0m\u001b[0;34m)\u001b[0m\u001b[0;34m\u001b[0m\u001b[0;34m\u001b[0m\u001b[0m\n",
      "\u001b[0;32m~/cryp/cryptology-project/libcrypto/libmorse/encoder/funcs.py\u001b[0m in \u001b[0;36m<module>\u001b[0;34m\u001b[0m\n\u001b[1;32m      9\u001b[0m \u001b[0;34m\u001b[0m\u001b[0m\n\u001b[1;32m     10\u001b[0m \u001b[0;32mexcept\u001b[0m\u001b[0;34m:\u001b[0m\u001b[0;34m\u001b[0m\u001b[0;34m\u001b[0m\u001b[0m\n\u001b[0;32m---> 11\u001b[0;31m     \u001b[0;32mfrom\u001b[0m \u001b[0;34m.\u001b[0m\u001b[0mtext2morse\u001b[0m \u001b[0;32mimport\u001b[0m \u001b[0minput2morse\u001b[0m\u001b[0;34m\u001b[0m\u001b[0;34m\u001b[0m\u001b[0m\n\u001b[0m\u001b[1;32m     12\u001b[0m     \u001b[0;32mfrom\u001b[0m \u001b[0;34m.\u001b[0m\u001b[0;34m.\u001b[0m\u001b[0mdecoder\u001b[0m\u001b[0;34m.\u001b[0m\u001b[0mmorse\u001b[0m \u001b[0;32mimport\u001b[0m \u001b[0mMorseCode\u001b[0m\u001b[0;34m\u001b[0m\u001b[0;34m\u001b[0m\u001b[0m\n\u001b[1;32m     13\u001b[0m \u001b[0;32mdef\u001b[0m \u001b[0mtext2video\u001b[0m\u001b[0;34m(\u001b[0m\u001b[0mtext\u001b[0m\u001b[0;34m:\u001b[0m\u001b[0mstr\u001b[0m \u001b[0;34m=\u001b[0m \u001b[0;32mNone\u001b[0m\u001b[0;34m)\u001b[0m\u001b[0;34m:\u001b[0m\u001b[0;34m\u001b[0m\u001b[0;34m\u001b[0m\u001b[0m\n",
      "\u001b[0;31mImportError\u001b[0m: attempted relative import with no known parent package"
     ]
    }
   ],
   "source": [
    "from PIL import Image\n",
    "import numpy as np\n",
    "from funcs import *\n",
    "\n",
    "img = Image.open('output.png')\n",
    "ar = np.asarray(img)\n",
    "s = ar.shape\n",
    "ar = ar.flatten()#.reshape(ar.shape[0],ar.shape[1],3)\n",
    "np.savetxt('3ar.csv',ar)\n",
    "ar2 = np.loadtxt('3ar.csv')\n",
    "ar2 = ar2.reshape(s[0],s[1],3)\n",
    "ar3 = []\n",
    "for i in range(len(ar2)):\n",
    "    for j in range(len(ar2)):\n",
    "        ar3.append(rgb2wve(ar2[i][j]))\n",
    "ar3 = np.array(ar3)\n",
    "np.savetxt('ar3.csv',ar3)\n"
   ]
  },
  {
   "cell_type": "code",
   "execution_count": 3,
   "metadata": {},
   "outputs": [],
   "source": [
    "import sounddevice as sd\n",
    "import numpy as np\n",
    "from scipy.io.wavfile import write as write_wav\n",
    "\n",
    "temp = np.loadtxt('/home/salih/cryp/cryptology-project/.temp.csv')# -1*10**7\n",
    "morse2wav(temp)\n",
    "#np.savetxt('temp.csv',temp)\n",
    "sd.play(temp)\n"
   ]
  },
  {
   "cell_type": "code",
   "execution_count": 2,
   "metadata": {},
   "outputs": [],
   "source": [
    "def morse2wav(arr):\n",
    "    scaled = np.int16(arr/np.max(np.abs(arr)) * 32767)\n",
    "    write_wav('outt.wav', 44100, scaled)"
   ]
  }
 ],
 "metadata": {
  "kernelspec": {
   "display_name": "Python 3.10.7 64-bit",
   "language": "python",
   "name": "python3"
  },
  "language_info": {
   "codemirror_mode": {
    "name": "ipython",
    "version": 3
   },
   "file_extension": ".py",
   "mimetype": "text/x-python",
   "name": "python",
   "nbconvert_exporter": "python",
   "pygments_lexer": "ipython3",
   "version": "3.10.7"
  },
  "orig_nbformat": 4,
  "vscode": {
   "interpreter": {
    "hash": "e7370f93d1d0cde622a1f8e1c04877d8463912d04d973331ad4851f04de6915a"
   }
  }
 },
 "nbformat": 4,
 "nbformat_minor": 2
}
