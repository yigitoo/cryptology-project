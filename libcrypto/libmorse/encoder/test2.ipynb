{
 "cells": [
  {
   "cell_type": "code",
   "execution_count": 40,
   "metadata": {},
   "outputs": [],
   "source": [
    "import sounddevice as sd\n",
    "from PIL import Image\n",
    "\n",
    "def image2wav(image='output.png', out='output.wav'):\n",
    "    img = Image.open(image)\n",
    "    ar = np.asarray(img)\n",
    "    ar = ar.flatten()\n",
    "    ar2 = []\n",
    "    ar3 = []\n",
    "    for i in range(int(len(ar)/3)):\n",
    "        nt = []\n",
    "        nt.append(ar[i])\n",
    "        nt.append(ar[i+1])\n",
    "        nt.append(ar[i+2])\n",
    "        ar2.append(nt)\n",
    "    ar2 = np.array(ar2)\n",
    "    for i in range(len(ar2)):\n",
    "        #print(rgb2wve(ar2[i]))\n",
    "        ar3.append(rgb2wve(ar2[i]))\n",
    "    return ar3\n",
    "\n",
    "\n",
    "arwv = image2wav('output.png')\n",
    "arwv = np.array(arwv, dtype=np.float32) -1*10**7\n",
    "sd.play(arwv)\n",
    "np.savetxt('arwv.csv',arwv,'%8.0f')"
   ]
  },
  {
   "cell_type": "code",
   "execution_count": null,
   "metadata": {},
   "outputs": [],
   "source": [
    "def rgb2wve(n):\n",
    "    s = 0\n",
    "    s += int(n[0]*256**2)\n",
    "    s += int(n[1]*256)\n",
    "    s += int(n[2])\n",
    "    return s\n",
    "\n",
    "def wve2rgb(ln):\n",
    "    n1=ln // 256 // 256 % 256\n",
    "    n2=ln //256%256\n",
    "    n3=ln % 256\n",
    "    return np.array([n1,n2,n3])\n"
   ]
  },
  {
   "cell_type": "code",
   "execution_count": null,
   "metadata": {},
   "outputs": [],
   "source": [
    "from morse_audio_decoder.morse import MorseCode\n",
    "\n",
    "morse_code = MorseCode.from_wavfile(\"/home/salih/cryp/cryptology-project/libcrypto/outt.wav\")\n",
    "out = morse_code.decode()\n",
    "print(out)"
   ]
  },
  {
   "cell_type": "code",
   "execution_count": null,
   "metadata": {},
   "outputs": [],
   "source": [
    "import numpy as np\n",
    "from scipy.io.wavfile import write as write_wav"
   ]
  },
  {
   "cell_type": "code",
   "execution_count": null,
   "metadata": {},
   "outputs": [],
   "source": [
    "def morse2wav(arr:np.ndarray) -> str:\n",
    "    #scaled = np.int8(arr/np.max(np.abs(arr))* (32767))\n",
    "    #print(scaled)\n",
    "    write_wav(\"out.wav\", 44100, arr)\n",
    "#temp = np.loadtxt('/home/salih/cryp/cryptology-project/libcrypto/libmorse/encoder/temp.csv')\n",
    "#morse2wav(temp)"
   ]
  },
  {
   "cell_type": "code",
   "execution_count": null,
   "metadata": {},
   "outputs": [],
   "source": [
    "import sys\n",
    "def wav2text(file:str = None):\n",
    "    decoded = MorseCode.from_wavfile(file).decode()\n",
    "    sys.stdout.write(decoded + \"\\n\")\n",
    "\n",
    "#MorseCode.from_wavfile('/home/salih/cryp/cryptology-project/libcrypto/libmorse/encoder/out.wav').decode()\n",
    "#sd.play(temp)"
   ]
  },
  {
   "cell_type": "code",
   "execution_count": null,
   "metadata": {},
   "outputs": [],
   "source": [
    "wav2text('/home/salih/cryp/cryptology-project/libcrypto/outt.wav')\n"
   ]
  },
  {
   "cell_type": "code",
   "execution_count": null,
   "metadata": {},
   "outputs": [],
   "source": [
    "def ar2text(ar):\n",
    "    for i in range(len(ar)):\n",
    "        if ar[i] == 0:\n",
    "            ar[i] = 0\n",
    "        else:\n",
    "            ar[i] = 1\n",
    "    return ar\n",
    "temp3 = np.loadtxt('temp3.csv')\n",
    "np.savetxt('ar2t.csv',ar2text(temp3),'%1.0f')"
   ]
  },
  {
   "cell_type": "code",
   "execution_count": null,
   "metadata": {},
   "outputs": [],
   "source": [
    "temp = (np.loadtxt('/home/salih/cryp/cryptology-project/libcrypto/libmorse/encoder/temp.csv') / 10**6) -1\n",
    "np.savetxt('temp3.csv', temp,'%5.6f')\n",
    "\n",
    "sd.play(temp)"
   ]
  },
  {
   "cell_type": "code",
   "execution_count": null,
   "metadata": {},
   "outputs": [],
   "source": [
    "from scipy.io.wavfile import read\n",
    "a = read('/home/salih/cryp/cryptology-project/libcrypto/outt.wav')\n",
    "np.array(a[1],dtype=float)\n",
    "np.savetxt('wvrd.csv',a[1])"
   ]
  },
  {
   "cell_type": "code",
   "execution_count": null,
   "metadata": {},
   "outputs": [],
   "source": [
    "def arbin2short(ar):\n",
    "    strar = \"\"\n",
    "    for i in ar:\n",
    "        strar += str(int(i))\n",
    "    return strar.split('10')\n",
    "testar = np.loadtxt('ar2t.csv')\n",
    "arbin2short(testar)"
   ]
  },
  {
   "cell_type": "code",
   "execution_count": null,
   "metadata": {},
   "outputs": [],
   "source": [
    "def inputtext2morse(input):\n",
    "    ar = []\n",
    "    for i in len(input)*17:\n",
    "        "
   ]
  },
  {
   "cell_type": "code",
   "execution_count": null,
   "metadata": {},
   "outputs": [],
   "source": [
    "\n",
    "np.savetxt('wvrd2.csv',ar2text(a[1]))"
   ]
  },
  {
   "cell_type": "code",
   "execution_count": null,
   "metadata": {},
   "outputs": [],
   "source": [
    "test4 = np.loadtxt('wvrd2.csv')\n",
    "np.savetxt('test4.csv',ar2text(test4),'%1.0f')\n",
    "ar2text(test4)\n"
   ]
  },
  {
   "cell_type": "code",
   "execution_count": null,
   "metadata": {},
   "outputs": [],
   "source": [
    "test4r = np.loadtxt('test4.csv')\n",
    "\n"
   ]
  },
  {
   "cell_type": "code",
   "execution_count": null,
   "metadata": {},
   "outputs": [],
   "source": [
    "def short2morse(ar):\n",
    "    ar2 = []\n",
    "    ar3 = []\n",
    "    for i in ar:\n",
    "        ar2.append(len(i))\n",
    "    for i in ar2:\n",
    "        if i > 4000:\n",
    "            ar3.append('-')\n",
    "        else:\n",
    "            ar3.append('.')\n",
    "    o = \"\"\n",
    "    for i in ar3:\n",
    "        o += str(i)\n",
    "    return ar2\n",
    "\n",
    "#short2morse(arbin2short(test4r))\n",
    "\n",
    "\n"
   ]
  },
  {
   "cell_type": "code",
   "execution_count": null,
   "metadata": {},
   "outputs": [],
   "source": [
    "np.savetxt('.arwv.csv',arwv)"
   ]
  },
  {
   "cell_type": "code",
   "execution_count": 44,
   "metadata": {},
   "outputs": [
    {
     "ename": "FileNotFoundError",
     "evalue": "[Errno 2] No such file or directory: '/home/salih/cryp/cryptology-project/libcrypto/libmorse/output.png'",
     "output_type": "error",
     "traceback": [
      "\u001b[0;31m---------------------------------------------------------------------------\u001b[0m",
      "\u001b[0;31mFileNotFoundError\u001b[0m                         Traceback (most recent call last)",
      "Cell \u001b[0;32mIn [44], line 1\u001b[0m\n\u001b[0;32m----> 1\u001b[0m totest \u001b[38;5;241m=\u001b[39m np\u001b[38;5;241m.\u001b[39marray(\u001b[43mimage2wav\u001b[49m\u001b[43m(\u001b[49m\u001b[38;5;124;43m'\u001b[39;49m\u001b[38;5;124;43m/home/salih/cryp/cryptology-project/libcrypto/libmorse/output.png\u001b[39;49m\u001b[38;5;124;43m'\u001b[39;49m\u001b[43m)\u001b[49m)\n\u001b[1;32m      2\u001b[0m short2morse(arbin2short(ar2text(totest)))\n",
      "Cell \u001b[0;32mIn [40], line 5\u001b[0m, in \u001b[0;36mimage2wav\u001b[0;34m(image, out)\u001b[0m\n\u001b[1;32m      4\u001b[0m \u001b[38;5;28;01mdef\u001b[39;00m \u001b[38;5;21mimage2wav\u001b[39m(image\u001b[38;5;241m=\u001b[39m\u001b[38;5;124m'\u001b[39m\u001b[38;5;124moutput.png\u001b[39m\u001b[38;5;124m'\u001b[39m, out\u001b[38;5;241m=\u001b[39m\u001b[38;5;124m'\u001b[39m\u001b[38;5;124moutput.wav\u001b[39m\u001b[38;5;124m'\u001b[39m):\n\u001b[0;32m----> 5\u001b[0m     img \u001b[38;5;241m=\u001b[39m \u001b[43mImage\u001b[49m\u001b[38;5;241;43m.\u001b[39;49m\u001b[43mopen\u001b[49m\u001b[43m(\u001b[49m\u001b[43mimage\u001b[49m\u001b[43m)\u001b[49m\n\u001b[1;32m      6\u001b[0m     ar \u001b[38;5;241m=\u001b[39m np\u001b[38;5;241m.\u001b[39masarray(img)\n\u001b[1;32m      7\u001b[0m     ar \u001b[38;5;241m=\u001b[39m ar\u001b[38;5;241m.\u001b[39mflatten()\n",
      "File \u001b[0;32m/usr/lib/python3/dist-packages/PIL/Image.py:3092\u001b[0m, in \u001b[0;36mopen\u001b[0;34m(fp, mode, formats)\u001b[0m\n\u001b[1;32m   3089\u001b[0m     filename \u001b[39m=\u001b[39m fp\n\u001b[1;32m   3091\u001b[0m \u001b[39mif\u001b[39;00m filename:\n\u001b[0;32m-> 3092\u001b[0m     fp \u001b[39m=\u001b[39m builtins\u001b[39m.\u001b[39;49mopen(filename, \u001b[39m\"\u001b[39;49m\u001b[39mrb\u001b[39;49m\u001b[39m\"\u001b[39;49m)\n\u001b[1;32m   3093\u001b[0m     exclusive_fp \u001b[39m=\u001b[39m \u001b[39mTrue\u001b[39;00m\n\u001b[1;32m   3095\u001b[0m \u001b[39mtry\u001b[39;00m:\n",
      "\u001b[0;31mFileNotFoundError\u001b[0m: [Errno 2] No such file or directory: '/home/salih/cryp/cryptology-project/libcrypto/libmorse/output.png'"
     ]
    }
   ],
   "source": [
    "totest = np.array(image2wav('/home/salih/cryp/cryptology-project/libcrypto/libmorse/output.png'))\n",
    "short2morse(arbin2short(ar2text(totest)))\n"
   ]
  }
 ],
 "metadata": {
  "kernelspec": {
   "display_name": "Python 3.10.7 64-bit",
   "language": "python",
   "name": "python3"
  },
  "language_info": {
   "codemirror_mode": {
    "name": "ipython",
    "version": 3
   },
   "file_extension": ".py",
   "mimetype": "text/x-python",
   "name": "python",
   "nbconvert_exporter": "python",
   "pygments_lexer": "ipython3",
   "version": "3.10.7"
  },
  "orig_nbformat": 4,
  "vscode": {
   "interpreter": {
    "hash": "e7370f93d1d0cde622a1f8e1c04877d8463912d04d973331ad4851f04de6915a"
   }
  }
 },
 "nbformat": 4,
 "nbformat_minor": 2
}
